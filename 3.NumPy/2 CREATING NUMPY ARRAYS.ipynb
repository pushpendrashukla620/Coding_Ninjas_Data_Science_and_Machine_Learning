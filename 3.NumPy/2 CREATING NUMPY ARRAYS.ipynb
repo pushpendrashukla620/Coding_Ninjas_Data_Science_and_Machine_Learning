{
 "cells": [
  {
   "cell_type": "code",
   "execution_count": 1,
   "id": "2d223772",
   "metadata": {
    "execution": {
     "iopub.execute_input": "2022-06-07T19:14:05.558829Z",
     "iopub.status.busy": "2022-06-07T19:14:05.558413Z",
     "iopub.status.idle": "2022-06-07T19:14:05.570793Z",
     "shell.execute_reply": "2022-06-07T19:14:05.570163Z"
    },
    "papermill": {
     "duration": 0.018756,
     "end_time": "2022-06-07T19:14:05.572628",
     "exception": false,
     "start_time": "2022-06-07T19:14:05.553872",
     "status": "completed"
    },
    "tags": []
   },
   "outputs": [
    {
     "data": {
      "text/plain": [
       "array([0, 1, 2, 3, 4, 5, 6, 7, 8, 9])"
      ]
     },
     "execution_count": 1,
     "metadata": {},
     "output_type": "execute_result"
    }
   ],
   "source": [
    "import numpy as np\n",
    "np.arange(10)"
   ]
  },
  {
   "cell_type": "code",
   "execution_count": 2,
   "id": "8f0ea353",
   "metadata": {
    "execution": {
     "iopub.execute_input": "2022-06-07T19:14:05.579275Z",
     "iopub.status.busy": "2022-06-07T19:14:05.578764Z",
     "iopub.status.idle": "2022-06-07T19:14:05.584082Z",
     "shell.execute_reply": "2022-06-07T19:14:05.583520Z"
    },
    "papermill": {
     "duration": 0.010303,
     "end_time": "2022-06-07T19:14:05.585651",
     "exception": false,
     "start_time": "2022-06-07T19:14:05.575348",
     "status": "completed"
    },
    "tags": []
   },
   "outputs": [
    {
     "data": {
      "text/plain": [
       "array([ 1.        ,  3.57894737,  6.15789474,  8.73684211, 11.31578947,\n",
       "       13.89473684, 16.47368421, 19.05263158, 21.63157895, 24.21052632,\n",
       "       26.78947368, 29.36842105, 31.94736842, 34.52631579, 37.10526316,\n",
       "       39.68421053, 42.26315789, 44.84210526, 47.42105263, 50.        ])"
      ]
     },
     "execution_count": 2,
     "metadata": {},
     "output_type": "execute_result"
    }
   ],
   "source": [
    "# creates an array of default size 50 having equal defference \n",
    "# ........................including last number....................................\n",
    "# Returns `num` evenly spaced samples, calculated over the\n",
    "# np.linspace(start,stop,no_of_elements)\n",
    "np.linspace(1,50,20)"
   ]
  },
  {
   "cell_type": "code",
   "execution_count": 3,
   "id": "43b03433",
   "metadata": {
    "execution": {
     "iopub.execute_input": "2022-06-07T19:14:05.592013Z",
     "iopub.status.busy": "2022-06-07T19:14:05.591484Z",
     "iopub.status.idle": "2022-06-07T19:14:05.596590Z",
     "shell.execute_reply": "2022-06-07T19:14:05.595916Z"
    },
    "papermill": {
     "duration": 0.010068,
     "end_time": "2022-06-07T19:14:05.598243",
     "exception": false,
     "start_time": "2022-06-07T19:14:05.588175",
     "status": "completed"
    },
    "tags": []
   },
   "outputs": [
    {
     "data": {
      "text/plain": [
       "array([[1., 0., 0.],\n",
       "       [0., 1., 0.],\n",
       "       [0., 0., 1.]])"
      ]
     },
     "execution_count": 3,
     "metadata": {},
     "output_type": "execute_result"
    }
   ],
   "source": [
    "np.identity(3)"
   ]
  },
  {
   "cell_type": "code",
   "execution_count": 4,
   "id": "b0e8b422",
   "metadata": {
    "execution": {
     "iopub.execute_input": "2022-06-07T19:14:05.604776Z",
     "iopub.status.busy": "2022-06-07T19:14:05.604215Z",
     "iopub.status.idle": "2022-06-07T19:14:05.609063Z",
     "shell.execute_reply": "2022-06-07T19:14:05.608516Z"
    },
    "papermill": {
     "duration": 0.009824,
     "end_time": "2022-06-07T19:14:05.610631",
     "exception": false,
     "start_time": "2022-06-07T19:14:05.600807",
     "status": "completed"
    },
    "tags": []
   },
   "outputs": [
    {
     "data": {
      "text/plain": [
       "array([[1., 0., 0.],\n",
       "       [0., 1., 0.],\n",
       "       [0., 0., 1.]])"
      ]
     },
     "execution_count": 4,
     "metadata": {},
     "output_type": "execute_result"
    }
   ],
   "source": [
    "# can also generate non square matrix generate \n",
    "np.eye(3)"
   ]
  },
  {
   "cell_type": "code",
   "execution_count": 5,
   "id": "2e3112d2",
   "metadata": {
    "execution": {
     "iopub.execute_input": "2022-06-07T19:14:05.619531Z",
     "iopub.status.busy": "2022-06-07T19:14:05.618967Z",
     "iopub.status.idle": "2022-06-07T19:14:05.624093Z",
     "shell.execute_reply": "2022-06-07T19:14:05.623540Z"
    },
    "papermill": {
     "duration": 0.010262,
     "end_time": "2022-06-07T19:14:05.625659",
     "exception": false,
     "start_time": "2022-06-07T19:14:05.615397",
     "status": "completed"
    },
    "tags": []
   },
   "outputs": [
    {
     "data": {
      "text/plain": [
       "array([[1., 0., 0., 0., 0.],\n",
       "       [0., 1., 0., 0., 0.],\n",
       "       [0., 0., 1., 0., 0.]])"
      ]
     },
     "execution_count": 5,
     "metadata": {},
     "output_type": "execute_result"
    }
   ],
   "source": [
    "np.eye(3,5)"
   ]
  },
  {
   "cell_type": "code",
   "execution_count": 6,
   "id": "c76490f9",
   "metadata": {
    "execution": {
     "iopub.execute_input": "2022-06-07T19:14:05.632357Z",
     "iopub.status.busy": "2022-06-07T19:14:05.631850Z",
     "iopub.status.idle": "2022-06-07T19:14:05.637008Z",
     "shell.execute_reply": "2022-06-07T19:14:05.636274Z"
    },
    "papermill": {
     "duration": 0.010322,
     "end_time": "2022-06-07T19:14:05.638630",
     "exception": false,
     "start_time": "2022-06-07T19:14:05.628308",
     "status": "completed"
    },
    "tags": []
   },
   "outputs": [
    {
     "data": {
      "text/plain": [
       "array([7.36852348, 1.06354421, 6.48337678, 5.06380969, 0.9328033 ,\n",
       "       2.55593198, 6.70188614, 1.84909437, 3.23584516, 1.82425112])"
      ]
     },
     "execution_count": 6,
     "metadata": {},
     "output_type": "execute_result"
    }
   ],
   "source": [
    "# random sample between 0,1\n",
    "b=np.random.rand(10)*10\n",
    "b"
   ]
  },
  {
   "cell_type": "code",
   "execution_count": 7,
   "id": "72a74c50",
   "metadata": {
    "execution": {
     "iopub.execute_input": "2022-06-07T19:14:05.646032Z",
     "iopub.status.busy": "2022-06-07T19:14:05.645467Z",
     "iopub.status.idle": "2022-06-07T19:14:05.650591Z",
     "shell.execute_reply": "2022-06-07T19:14:05.649846Z"
    },
    "papermill": {
     "duration": 0.01084,
     "end_time": "2022-06-07T19:14:05.652343",
     "exception": false,
     "start_time": "2022-06-07T19:14:05.641503",
     "status": "completed"
    },
    "tags": []
   },
   "outputs": [
    {
     "data": {
      "text/plain": [
       "378"
      ]
     },
     "execution_count": 7,
     "metadata": {},
     "output_type": "execute_result"
    }
   ],
   "source": [
    "np.random.randint(1000)"
   ]
  },
  {
   "cell_type": "code",
   "execution_count": null,
   "id": "8e2cce41",
   "metadata": {
    "papermill": {
     "duration": 0.002621,
     "end_time": "2022-06-07T19:14:05.658031",
     "exception": false,
     "start_time": "2022-06-07T19:14:05.655410",
     "status": "completed"
    },
    "tags": []
   },
   "outputs": [],
   "source": []
  }
 ],
 "metadata": {
  "kernelspec": {
   "display_name": "Python 3",
   "language": "python",
   "name": "python3"
  },
  "language_info": {
   "codemirror_mode": {
    "name": "ipython",
    "version": 3
   },
   "file_extension": ".py",
   "mimetype": "text/x-python",
   "name": "python",
   "nbconvert_exporter": "python",
   "pygments_lexer": "ipython3",
   "version": "3.7.12"
  },
  "papermill": {
   "default_parameters": {},
   "duration": 9.094702,
   "end_time": "2022-06-07T19:14:06.279975",
   "environment_variables": {},
   "exception": null,
   "input_path": "__notebook__.ipynb",
   "output_path": "__notebook__.ipynb",
   "parameters": {},
   "start_time": "2022-06-07T19:13:57.185273",
   "version": "2.3.4"
  }
 },
 "nbformat": 4,
 "nbformat_minor": 5
}
