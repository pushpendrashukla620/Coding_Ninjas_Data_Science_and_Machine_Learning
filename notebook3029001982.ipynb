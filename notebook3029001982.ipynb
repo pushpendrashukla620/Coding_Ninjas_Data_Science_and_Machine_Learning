{
 "cells": [
  {
   "cell_type": "code",
   "execution_count": 1,
   "id": "5f1eba5d",
   "metadata": {
    "execution": {
     "iopub.execute_input": "2022-06-07T18:08:41.291411Z",
     "iopub.status.busy": "2022-06-07T18:08:41.290914Z",
     "iopub.status.idle": "2022-06-07T18:08:41.307959Z",
     "shell.execute_reply": "2022-06-07T18:08:41.307350Z"
    },
    "papermill": {
     "duration": 0.025135,
     "end_time": "2022-06-07T18:08:41.310204",
     "exception": false,
     "start_time": "2022-06-07T18:08:41.285069",
     "status": "completed"
    },
    "tags": []
   },
   "outputs": [
    {
     "data": {
      "text/plain": [
       "array([0, 1, 2, 3, 4, 5, 6, 7, 8, 9])"
      ]
     },
     "execution_count": 1,
     "metadata": {},
     "output_type": "execute_result"
    }
   ],
   "source": [
    "import numpy as np\n",
    "np.arange(10)"
   ]
  },
  {
   "cell_type": "code",
   "execution_count": 2,
   "id": "f5f00e23",
   "metadata": {
    "execution": {
     "iopub.execute_input": "2022-06-07T18:08:41.318842Z",
     "iopub.status.busy": "2022-06-07T18:08:41.318260Z",
     "iopub.status.idle": "2022-06-07T18:08:41.323529Z",
     "shell.execute_reply": "2022-06-07T18:08:41.322863Z"
    },
    "papermill": {
     "duration": 0.010777,
     "end_time": "2022-06-07T18:08:41.324873",
     "exception": false,
     "start_time": "2022-06-07T18:08:41.314096",
     "status": "completed"
    },
    "tags": []
   },
   "outputs": [
    {
     "data": {
      "text/plain": [
       "array([ 1.        ,  3.57894737,  6.15789474,  8.73684211, 11.31578947,\n",
       "       13.89473684, 16.47368421, 19.05263158, 21.63157895, 24.21052632,\n",
       "       26.78947368, 29.36842105, 31.94736842, 34.52631579, 37.10526316,\n",
       "       39.68421053, 42.26315789, 44.84210526, 47.42105263, 50.        ])"
      ]
     },
     "execution_count": 2,
     "metadata": {},
     "output_type": "execute_result"
    }
   ],
   "source": [
    "# creates an array of default size 50 having equal defference \n",
    "# ........................including last number....................................\n",
    "# Returns `num` evenly spaced samples, calculated over the\n",
    "# np.linspace(start,stop,no_of_elements)\n",
    "np.linspace(1,50,20)"
   ]
  },
  {
   "cell_type": "code",
   "execution_count": 3,
   "id": "3be99dd5",
   "metadata": {
    "execution": {
     "iopub.execute_input": "2022-06-07T18:08:41.331082Z",
     "iopub.status.busy": "2022-06-07T18:08:41.330347Z",
     "iopub.status.idle": "2022-06-07T18:08:41.335659Z",
     "shell.execute_reply": "2022-06-07T18:08:41.335135Z"
    },
    "papermill": {
     "duration": 0.009677,
     "end_time": "2022-06-07T18:08:41.336946",
     "exception": false,
     "start_time": "2022-06-07T18:08:41.327269",
     "status": "completed"
    },
    "tags": []
   },
   "outputs": [
    {
     "data": {
      "text/plain": [
       "array([[1., 0., 0.],\n",
       "       [0., 1., 0.],\n",
       "       [0., 0., 1.]])"
      ]
     },
     "execution_count": 3,
     "metadata": {},
     "output_type": "execute_result"
    }
   ],
   "source": [
    "np.identity(3)"
   ]
  },
  {
   "cell_type": "code",
   "execution_count": 4,
   "id": "2efa580e",
   "metadata": {
    "execution": {
     "iopub.execute_input": "2022-06-07T18:08:41.343099Z",
     "iopub.status.busy": "2022-06-07T18:08:41.342520Z",
     "iopub.status.idle": "2022-06-07T18:08:41.347843Z",
     "shell.execute_reply": "2022-06-07T18:08:41.347105Z"
    },
    "papermill": {
     "duration": 0.009873,
     "end_time": "2022-06-07T18:08:41.349256",
     "exception": false,
     "start_time": "2022-06-07T18:08:41.339383",
     "status": "completed"
    },
    "tags": []
   },
   "outputs": [
    {
     "data": {
      "text/plain": [
       "array([[1., 0., 0.],\n",
       "       [0., 1., 0.],\n",
       "       [0., 0., 1.]])"
      ]
     },
     "execution_count": 4,
     "metadata": {},
     "output_type": "execute_result"
    }
   ],
   "source": [
    "# can also generate non square matrix generate \n",
    "np.eye(3)"
   ]
  },
  {
   "cell_type": "code",
   "execution_count": 5,
   "id": "b4ee1d83",
   "metadata": {
    "execution": {
     "iopub.execute_input": "2022-06-07T18:08:41.357088Z",
     "iopub.status.busy": "2022-06-07T18:08:41.356567Z",
     "iopub.status.idle": "2022-06-07T18:08:41.361464Z",
     "shell.execute_reply": "2022-06-07T18:08:41.360934Z"
    },
    "papermill": {
     "duration": 0.009391,
     "end_time": "2022-06-07T18:08:41.362778",
     "exception": false,
     "start_time": "2022-06-07T18:08:41.353387",
     "status": "completed"
    },
    "tags": []
   },
   "outputs": [
    {
     "data": {
      "text/plain": [
       "array([[1., 0., 0., 0., 0.],\n",
       "       [0., 1., 0., 0., 0.],\n",
       "       [0., 0., 1., 0., 0.]])"
      ]
     },
     "execution_count": 5,
     "metadata": {},
     "output_type": "execute_result"
    }
   ],
   "source": [
    "np.eye(3,5)"
   ]
  },
  {
   "cell_type": "code",
   "execution_count": 6,
   "id": "26d4e5f9",
   "metadata": {
    "execution": {
     "iopub.execute_input": "2022-06-07T18:08:41.369198Z",
     "iopub.status.busy": "2022-06-07T18:08:41.368812Z",
     "iopub.status.idle": "2022-06-07T18:08:41.373908Z",
     "shell.execute_reply": "2022-06-07T18:08:41.373228Z"
    },
    "papermill": {
     "duration": 0.009887,
     "end_time": "2022-06-07T18:08:41.375257",
     "exception": false,
     "start_time": "2022-06-07T18:08:41.365370",
     "status": "completed"
    },
    "tags": []
   },
   "outputs": [
    {
     "data": {
      "text/plain": [
       "array([6.07199612, 3.15986661, 1.12880247, 2.83460029, 1.33579652,\n",
       "       9.52418237, 7.62964788, 1.52130573, 1.54208746, 1.24431758])"
      ]
     },
     "execution_count": 6,
     "metadata": {},
     "output_type": "execute_result"
    }
   ],
   "source": [
    "# random sample between 0,1\n",
    "b=np.random.rand(10)*10\n",
    "b"
   ]
  },
  {
   "cell_type": "code",
   "execution_count": 7,
   "id": "3eaef586",
   "metadata": {
    "execution": {
     "iopub.execute_input": "2022-06-07T18:08:41.381806Z",
     "iopub.status.busy": "2022-06-07T18:08:41.381391Z",
     "iopub.status.idle": "2022-06-07T18:08:41.385921Z",
     "shell.execute_reply": "2022-06-07T18:08:41.385399Z"
    },
    "papermill": {
     "duration": 0.009316,
     "end_time": "2022-06-07T18:08:41.387265",
     "exception": false,
     "start_time": "2022-06-07T18:08:41.377949",
     "status": "completed"
    },
    "tags": []
   },
   "outputs": [
    {
     "data": {
      "text/plain": [
       "123"
      ]
     },
     "execution_count": 7,
     "metadata": {},
     "output_type": "execute_result"
    }
   ],
   "source": [
    "np.random.randint(1000)"
   ]
  },
  {
   "cell_type": "code",
   "execution_count": null,
   "id": "4a4ecf28",
   "metadata": {
    "papermill": {
     "duration": 0.002716,
     "end_time": "2022-06-07T18:08:41.392954",
     "exception": false,
     "start_time": "2022-06-07T18:08:41.390238",
     "status": "completed"
    },
    "tags": []
   },
   "outputs": [],
   "source": []
  }
 ],
 "metadata": {
  "kernelspec": {
   "display_name": "Python 3",
   "language": "python",
   "name": "python3"
  },
  "language_info": {
   "codemirror_mode": {
    "name": "ipython",
    "version": 3
   },
   "file_extension": ".py",
   "mimetype": "text/x-python",
   "name": "python",
   "nbconvert_exporter": "python",
   "pygments_lexer": "ipython3",
   "version": "3.7.12"
  },
  "papermill": {
   "default_parameters": {},
   "duration": 11.28659,
   "end_time": "2022-06-07T18:08:42.214800",
   "environment_variables": {},
   "exception": null,
   "input_path": "__notebook__.ipynb",
   "output_path": "__notebook__.ipynb",
   "parameters": {},
   "start_time": "2022-06-07T18:08:30.928210",
   "version": "2.3.4"
  }
 },
 "nbformat": 4,
 "nbformat_minor": 5
}
